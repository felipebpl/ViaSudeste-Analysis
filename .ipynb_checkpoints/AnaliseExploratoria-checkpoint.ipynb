{
 "cells": [
  {
   "cell_type": "markdown",
   "id": "3dd3e08c",
   "metadata": {},
   "source": [
    "# VIA SUDESTE\n",
    "\n",
    "#### ETAPAS NA ORGANIZAÇÃO DOS DADOS \n",
    "\n",
    "####  1. Objetivo\n",
    "---\n",
    "Realizar uma segmentação dos clientes, tendo como objetivo **identificar grupos de clientes** que são mais ativos na plataforma da Via Sudeste e geram um **maior faturamento**. A partir dessa análise, a intenção é ajudar a Via Sudeste traçando **estratégias para cada grupo**, levando em consideração suas características.\n",
    " \n",
    "####  2. Métricas importantes para análise da Via Sudeste\n",
    "---\n",
    "- Ticket Médio \n",
    "- Média de itens pedidos por cliente\n",
    "- Região mais forte de vendas (heatmap regiões)\n",
    "- Taxa de Aprovação \n",
    "- Score médio de Reviews\n",
    "- Métodos de pagamento mais utilizados\n",
    "- Tempo médio de entrega (frete)\n",
    "- Tempo médio de atendimento/resposta \n",
    "- Tráfego (Sessões -> Google Analytics) *não possui dado*\n",
    "- ROAS (Retorno sobre publicidade) *não possui dado*\n",
    "- ROI (Retorno sobre investimento) *não possui dado*\n",
    "- Taxa de devolução de pedidos *não possui dado*\n",
    "- Tempo de carregamento (Google speedpage) *não possui dado*\n",
    "\n",
    "#### 3. KPI (Indicador de perfomance chave) \n",
    "---\n",
    "- Transações (pedidos realizados) --> não importa se foi pago ou não, esforço do marketing é realizar a compra\n",
    "    - Transações captadas (sem status)\n",
    "    - Transações faturadas (aprovada)     \n",
    "    \n",
    "####  4. Estratégia\n",
    "\n",
    "- Dividir taxa de aprovação por tipo de meio de pagamento. \n",
    "- Correlação entre tráfego e transações \n",
    "    - Taxa de conversão (Média no Brasil até 2020 era de 1,66%) \n",
    "\n"
   ]
  },
  {
   "cell_type": "markdown",
   "id": "25efec87",
   "metadata": {},
   "source": [
    "### Relação entre as bases de dados\n"
   ]
  },
  {
   "cell_type": "markdown",
   "id": "b7719501",
   "metadata": {},
   "source": [
    "![image](data/DataRelations.png)"
   ]
  },
  {
   "cell_type": "markdown",
   "id": "7df78cd7",
   "metadata": {},
   "source": [
    "### Importando as bibliotecas \n"
   ]
  },
  {
   "cell_type": "code",
   "execution_count": 4,
   "id": "8a7c67dd",
   "metadata": {},
   "outputs": [],
   "source": [
    "import pandas as pd\n",
    "import numpy as np"
   ]
  },
  {
   "cell_type": "markdown",
   "id": "48fd9894",
   "metadata": {},
   "source": [
    "#### Clientes\n",
    "Tabela que contêm os dados da base de autenticação e alocalização dos clientes da plataforma de e-commerce:\n",
    "\n",
    "- `cliente_id` – chave para a tabela de pedidos, cada pedido possui um cliente_id único.\n",
    "- `cliente_id_unico` – identificador único para cada cliente.\n",
    "- `cliente_CEP` – CEP do cliente\n",
    "- `cliente_cidade` – cidade do cliente\n",
    "- `cliente_estado` – estado do cliente"
   ]
  },
  {
   "cell_type": "code",
   "execution_count": 9,
   "id": "cc7dc818",
   "metadata": {},
   "outputs": [],
   "source": [
    "df_clientes = pd.read_excel(\"data/clientes.xlsx\") "
   ]
  },
  {
   "cell_type": "code",
   "execution_count": 10,
   "id": "ef1948b5",
   "metadata": {
    "scrolled": true
   },
   "outputs": [
    {
     "name": "stdout",
     "output_type": "stream",
     "text": [
      "<class 'pandas.core.frame.DataFrame'>\n",
      "RangeIndex: 99441 entries, 0 to 99440\n",
      "Data columns (total 5 columns):\n",
      " #   Column            Non-Null Count  Dtype \n",
      "---  ------            --------------  ----- \n",
      " 0   cliente_id        99441 non-null  object\n",
      " 1   cliente_id_unico  99441 non-null  object\n",
      " 2   cliente_CEP       99441 non-null  int64 \n",
      " 3   cliente_cidade    99441 non-null  object\n",
      " 4   cliente_estado    99441 non-null  object\n",
      "dtypes: int64(1), object(4)\n",
      "memory usage: 3.8+ MB\n"
     ]
    }
   ],
   "source": [
    "df_clientes.info()"
   ]
  },
  {
   "cell_type": "code",
   "execution_count": 11,
   "id": "c38874fc",
   "metadata": {},
   "outputs": [
    {
     "data": {
      "text/plain": [
       "3345"
      ]
     },
     "execution_count": 11,
     "metadata": {},
     "output_type": "execute_result"
    }
   ],
   "source": [
    "mais_de_um_pedido = 99441 - df_clientes.cliente_id_unico.unique().shape[0]\n",
    "mais_de_um_pedido"
   ]
  },
  {
   "cell_type": "code",
   "execution_count": 12,
   "id": "4db3f316",
   "metadata": {},
   "outputs": [
    {
     "data": {
      "text/plain": [
       "SP    41.980672\n",
       "RJ    12.924247\n",
       "MG    11.700405\n",
       "RS     5.496727\n",
       "PR     5.073360\n",
       "SC     3.657445\n",
       "BA     3.399000\n",
       "DF     2.152030\n",
       "ES     2.044428\n",
       "GO     2.031355\n",
       "PE     1.661287\n",
       "CE     1.343510\n",
       "PA     0.980481\n",
       "MT     0.912099\n",
       "MA     0.751199\n",
       "MS     0.719019\n",
       "PB     0.539013\n",
       "PI     0.497783\n",
       "RN     0.487726\n",
       "AL     0.415322\n",
       "SE     0.351967\n",
       "TO     0.281574\n",
       "RO     0.254422\n",
       "AM     0.148832\n",
       "AC     0.081455\n",
       "AP     0.068382\n",
       "RR     0.046259\n",
       "Name: cliente_estado, dtype: float64"
      ]
     },
     "execution_count": 12,
     "metadata": {},
     "output_type": "execute_result"
    }
   ],
   "source": [
    "df_clientes['cliente_estado'].value_counts(True)*100"
   ]
  },
  {
   "cell_type": "markdown",
   "id": "251ad7db",
   "metadata": {},
   "source": [
    "<h3><font color='green'>Conclusões Clientes</font></h3>\n",
    "<ul>\n",
    "    <li>Nenhum valor nulo</li>\n",
    "    <li>Tipagem correta</li>\n",
    "    <li>Sem dados duplicados</li>\n",
    "    <li>Predominância da região sudeste</li>\n",
    "    <li>Estado mais forte é São Paulo, seguido de Rio de Janeiro, Minas e Rio Grande do Sul</li>\n",
    " \n",
    "</ul>"
   ]
  },
  {
   "cell_type": "markdown",
   "id": "986a4f67",
   "metadata": {},
   "source": [
    "#### Geolocalização\n",
    "Tabela que contém a comparação de CEP/cidade/Estado para Latitude/Longitude:\n",
    "- `geolocalizacao_CEP` – CEP\n",
    "- `geolocalizacao_latitude` – valor de latitude\n",
    "- `geolocalizacao_longitude` – valor de longitude\n",
    "- `geolocalizacao_cidade` – cidade\n",
    "- `geolocalizacao_estado` – estado"
   ]
  },
  {
   "cell_type": "code",
   "execution_count": 13,
   "id": "e6bc3590",
   "metadata": {},
   "outputs": [],
   "source": [
    "df_geolocalizacao = pd.read_excel(\"data/geolocalizacao.xlsx\") "
   ]
  },
  {
   "cell_type": "markdown",
   "id": "eb6e13ed",
   "metadata": {},
   "source": [
    "#### Itens\n",
    "Tabela com os itens da nota fiscal, contendo:\n",
    "- `pedido_id` – identificador único do pedido\n",
    "- `numero_de_itens` – quantidade de itens pedidos\n",
    "- `produto_id` – identificador do produto comprado\n",
    "- `vendedor_id` – identificador do vendedor\n",
    "- `data_entrega_limite` – data limite para a entrega do pedido\n",
    "- `preco` – preço do pedido sem frete\n",
    "- `preco_frete` – preço do frete do pedido"
   ]
  },
  {
   "cell_type": "code",
   "execution_count": 14,
   "id": "90fc767f",
   "metadata": {},
   "outputs": [],
   "source": [
    "df_itens = pd.read_excel(\"data/itens.xlsx\") "
   ]
  },
  {
   "cell_type": "code",
   "execution_count": 15,
   "id": "e2389a8d",
   "metadata": {},
   "outputs": [
    {
     "name": "stdout",
     "output_type": "stream",
     "text": [
      "<class 'pandas.core.frame.DataFrame'>\n",
      "RangeIndex: 112650 entries, 0 to 112649\n",
      "Data columns (total 7 columns):\n",
      " #   Column               Non-Null Count   Dtype         \n",
      "---  ------               --------------   -----         \n",
      " 0   pedido_id            112650 non-null  object        \n",
      " 1   numero_de_itens      112650 non-null  int64         \n",
      " 2   produto_id           112650 non-null  object        \n",
      " 3   vendedor_id          112650 non-null  object        \n",
      " 4   data_entrega_limite  112650 non-null  datetime64[ns]\n",
      " 5   preco                112650 non-null  float64       \n",
      " 6   preco_frete          112650 non-null  float64       \n",
      "dtypes: datetime64[ns](1), float64(2), int64(1), object(3)\n",
      "memory usage: 6.0+ MB\n"
     ]
    }
   ],
   "source": [
    "df_itens.info()"
   ]
  },
  {
   "cell_type": "code",
   "execution_count": 16,
   "id": "30caea81",
   "metadata": {},
   "outputs": [
    {
     "data": {
      "text/plain": [
       "False    112650\n",
       "dtype: int64"
      ]
     },
     "execution_count": 16,
     "metadata": {},
     "output_type": "execute_result"
    }
   ],
   "source": [
    "df_itens.duplicated().value_counts()"
   ]
  },
  {
   "cell_type": "code",
   "execution_count": 17,
   "id": "be265555",
   "metadata": {},
   "outputs": [
    {
     "data": {
      "text/plain": [
       "count    112650.000000\n",
       "mean          1.197834\n",
       "std           0.705124\n",
       "min           1.000000\n",
       "25%           1.000000\n",
       "50%           1.000000\n",
       "75%           1.000000\n",
       "max          21.000000\n",
       "Name: numero_de_itens, dtype: float64"
      ]
     },
     "execution_count": 17,
     "metadata": {},
     "output_type": "execute_result"
    }
   ],
   "source": [
    "df_itens.numero_de_itens.describe()"
   ]
  },
  {
   "cell_type": "code",
   "execution_count": 18,
   "id": "fdd5917c",
   "metadata": {},
   "outputs": [
    {
     "data": {
      "text/plain": [
       "count    112650.000000\n",
       "mean        120.653739\n",
       "std         183.633928\n",
       "min           0.850000\n",
       "25%          39.900000\n",
       "50%          74.990000\n",
       "75%         134.900000\n",
       "max        6735.000000\n",
       "Name: preco, dtype: float64"
      ]
     },
     "execution_count": 18,
     "metadata": {},
     "output_type": "execute_result"
    }
   ],
   "source": [
    "df_itens.preco.describe()"
   ]
  },
  {
   "cell_type": "code",
   "execution_count": 19,
   "id": "e1fc3904",
   "metadata": {},
   "outputs": [
    {
     "data": {
      "text/plain": [
       "count    112650.000000\n",
       "mean         19.990320\n",
       "std          15.806405\n",
       "min           0.000000\n",
       "25%          13.080000\n",
       "50%          16.260000\n",
       "75%          21.150000\n",
       "max         409.680000\n",
       "Name: preco_frete, dtype: float64"
      ]
     },
     "execution_count": 19,
     "metadata": {},
     "output_type": "execute_result"
    }
   ],
   "source": [
    "df_itens.preco_frete.describe()"
   ]
  },
  {
   "cell_type": "markdown",
   "id": "45417f6c",
   "metadata": {},
   "source": [
    "<h3><font color='green'>Conclusões Itens</font></h3>\n",
    "<ul>\n",
    "    <li>Nenhum valor nulo</li>\n",
    "    <li>Tipagem correta</li>\n",
    "    <li>Sem dados duplicados</li>\n",
    "    <li>Média do número de itens é baixa, 75% dos clientes pedem 1 item</li>\n",
    "    <li>Máximo de itens pedidos é 21</li>\n",
    "    <li>Média de preço dos itens é de 120,65 reais</li>\n",
    "    <li>75% dos clientes comprar um item de pelo menos 134,90 reais</li>\n",
    "    <li>Média de preço do frete é de 19,99 reais</li>\n",
    "    \n",
    "</ul>"
   ]
  },
  {
   "cell_type": "markdown",
   "id": "184ee867",
   "metadata": {},
   "source": [
    "#### Pagamentos\n",
    "Tabela de todos os pagamentos realizados e suas informações:\n",
    "- `pedido_id` – identificador do pedido\n",
    "- `numero_metodo_pagamento` – quantidade do método de pagamento utilizado\n",
    "- `método_pagamento` – método de pagamento utilizado\n",
    "- `numero_parcelas` – número de parcelas feitas para pagar\n",
    "- `valor_pagamento` – valor total do pagamento (com frete)"
   ]
  },
  {
   "cell_type": "code",
   "execution_count": 20,
   "id": "0b01a17b",
   "metadata": {},
   "outputs": [],
   "source": [
    "df_pagamento = pd.read_excel(\"data/pagamento.xlsx\") "
   ]
  },
  {
   "cell_type": "code",
   "execution_count": 23,
   "id": "14efd6db",
   "metadata": {},
   "outputs": [
    {
     "name": "stdout",
     "output_type": "stream",
     "text": [
      "<class 'pandas.core.frame.DataFrame'>\n",
      "RangeIndex: 103886 entries, 0 to 103885\n",
      "Data columns (total 5 columns):\n",
      " #   Column                    Non-Null Count   Dtype  \n",
      "---  ------                    --------------   -----  \n",
      " 0   pedido_id                 103886 non-null  object \n",
      " 1   numero_metodo_pagamentos  103886 non-null  int64  \n",
      " 2   metodo_pagamento          103886 non-null  object \n",
      " 3   numero_parcelas           103886 non-null  int64  \n",
      " 4   valor_pagamento           103886 non-null  float64\n",
      "dtypes: float64(1), int64(2), object(2)\n",
      "memory usage: 4.0+ MB\n"
     ]
    }
   ],
   "source": [
    "df_pagamento.info() "
   ]
  },
  {
   "cell_type": "code",
   "execution_count": 24,
   "id": "7005983e",
   "metadata": {},
   "outputs": [
    {
     "data": {
      "text/plain": [
       "False    103886\n",
       "dtype: int64"
      ]
     },
     "execution_count": 24,
     "metadata": {},
     "output_type": "execute_result"
    }
   ],
   "source": [
    "df_pagamento.duplicated().value_counts()"
   ]
  },
  {
   "cell_type": "markdown",
   "id": "529e02b6",
   "metadata": {},
   "source": [
    "<h3><font color='green'>Conclusões Pagamentos</font></h3>\n",
    "<ul>\n",
    "    <li>Nenhum valor nulo</li>\n",
    "    <li>Tipagem correta</li>\n",
    "    <li>Sem dados duplicados</li>\n",
    " \n",
    "</ul>"
   ]
  },
  {
   "cell_type": "markdown",
   "id": "5b5b79da",
   "metadata": {},
   "source": [
    "#### Pedidos \n",
    "Tabela de informação de todos os pedidos da plataforma:\n",
    "- `pedido_id` – identificador do pedido\n",
    "- `cliente_id` – identificador do cliente\n",
    "- `pedido_status` – status atual do pedido\n",
    "- `pedido_data_compra` – data do pagamento do pedido\n",
    "- `pedido_data_aprovado` – data que o pagamento foi aprovado\n",
    "- `pedido_data_entregue_transportadora` – data que o pedido chegou á transportadora\n",
    "- `pedido_data_entregue_cliente` – data que o pedido foi entregue ao cliente\n",
    "- `pedido_data_estimada_entrega` – data que foi estimada para a entrega ao cliente"
   ]
  },
  {
   "cell_type": "code",
   "execution_count": 25,
   "id": "6703d817",
   "metadata": {},
   "outputs": [],
   "source": [
    "df_pedidos = pd.read_excel(\"data/pedidos.xlsx\")"
   ]
  },
  {
   "cell_type": "code",
   "execution_count": 26,
   "id": "bef22db8",
   "metadata": {},
   "outputs": [
    {
     "name": "stdout",
     "output_type": "stream",
     "text": [
      "<class 'pandas.core.frame.DataFrame'>\n",
      "RangeIndex: 99441 entries, 0 to 99440\n",
      "Data columns (total 8 columns):\n",
      " #   Column                               Non-Null Count  Dtype         \n",
      "---  ------                               --------------  -----         \n",
      " 0   pedido_id                            99441 non-null  object        \n",
      " 1   cliente_id                           99441 non-null  object        \n",
      " 2   pedido_status                        99441 non-null  object        \n",
      " 3   pedido_data_compra                   99441 non-null  datetime64[ns]\n",
      " 4   pedido_data_aprovado                 99281 non-null  datetime64[ns]\n",
      " 5   pedido_data_entregue_transportadora  97658 non-null  datetime64[ns]\n",
      " 6   pedido_data_entrega_cliente          96476 non-null  datetime64[ns]\n",
      " 7   pedido_data_estimada_entrega         99441 non-null  datetime64[ns]\n",
      "dtypes: datetime64[ns](5), object(3)\n",
      "memory usage: 6.1+ MB\n"
     ]
    }
   ],
   "source": [
    "df_pedidos.info()"
   ]
  },
  {
   "cell_type": "code",
   "execution_count": 27,
   "id": "c0027d78",
   "metadata": {},
   "outputs": [
    {
     "data": {
      "text/plain": [
       "cancelado    141\n",
       "entregue      14\n",
       "created        5\n",
       "Name: pedido_status, dtype: int64"
      ]
     },
     "execution_count": 27,
     "metadata": {},
     "output_type": "execute_result"
    }
   ],
   "source": [
    "df_pedidos[df_pedidos.pedido_data_aprovado.isnull()].pedido_status.value_counts()"
   ]
  },
  {
   "cell_type": "code",
   "execution_count": 28,
   "id": "2297408a",
   "metadata": {},
   "outputs": [
    {
     "data": {
      "text/plain": [
       "indisponivel    609\n",
       "cancelado       550\n",
       "faturado        314\n",
       "processando     301\n",
       "created           5\n",
       "entregue          2\n",
       "approved          2\n",
       "Name: pedido_status, dtype: int64"
      ]
     },
     "execution_count": 28,
     "metadata": {},
     "output_type": "execute_result"
    }
   ],
   "source": [
    "df_pedidos[df_pedidos.pedido_data_entregue_transportadora.isnull()].pedido_status.value_counts()"
   ]
  },
  {
   "cell_type": "code",
   "execution_count": 29,
   "id": "12f53d3a",
   "metadata": {},
   "outputs": [
    {
     "data": {
      "text/plain": [
       "enviado         1107\n",
       "cancelado        619\n",
       "indisponivel     609\n",
       "faturado         314\n",
       "processando      301\n",
       "entregue           8\n",
       "created            5\n",
       "approved           2\n",
       "Name: pedido_status, dtype: int64"
      ]
     },
     "execution_count": 29,
     "metadata": {},
     "output_type": "execute_result"
    }
   ],
   "source": [
    "df_pedidos[df_pedidos.pedido_data_entrega_cliente.isnull()].pedido_status.value_counts()"
   ]
  },
  {
   "cell_type": "code",
   "execution_count": 30,
   "id": "ccc6adc7",
   "metadata": {},
   "outputs": [
    {
     "data": {
      "text/plain": [
       "False    99441\n",
       "dtype: int64"
      ]
     },
     "execution_count": 30,
     "metadata": {},
     "output_type": "execute_result"
    }
   ],
   "source": [
    "df_pedidos.duplicated().value_counts()"
   ]
  },
  {
   "cell_type": "code",
   "execution_count": 31,
   "id": "71ac7e3f",
   "metadata": {},
   "outputs": [
    {
     "data": {
      "text/plain": [
       "entregue        96478\n",
       "enviado          1107\n",
       "cancelado         625\n",
       "indisponivel      609\n",
       "faturado          314\n",
       "processando       301\n",
       "created             5\n",
       "approved            2\n",
       "Name: pedido_status, dtype: int64"
      ]
     },
     "execution_count": 31,
     "metadata": {},
     "output_type": "execute_result"
    }
   ],
   "source": [
    "df_pedidos.pedido_status.value_counts()"
   ]
  },
  {
   "cell_type": "markdown",
   "id": "d1a4969f",
   "metadata": {},
   "source": [
    "<h3><font color='green'>Conclusões Pedidos</font></h3>\n",
    "\n",
    "- Valores nulos na coluna `pedido_data_aprovado`\n",
    "\n",
    "    - **Hipótese**: Provavelmente são pedidos que foram criados mas nao foram concluidos. Não chegou na fase de ser aprovado.\n",
    "    \n",
    "\n",
    "- Valores nulos na coluna `pedido_data_entregue_transportadora`\n",
    "\n",
    "    - **Hipótese**: Pedidos que não foram pagos ou que não chegaram na parte de preparar o pedido para enviar à transportadora.\n",
    "\n",
    "\n",
    "- Valores nulos na coluna `pedido_data_entrega_cliente`\n",
    "\n",
    "    - **Hipótese**: Pedidos que ainda não chegaram na parte de preparo ou ainda foram enviados mas ainda não deu tempo de chegarem no consumidor para ter esse registro da data.\n",
    "    \n",
    "    \n",
    "- Tipagem das categorias está correta\n",
    "\n",
    "\n",
    "- Nenhum dado duplicado!"
   ]
  },
  {
   "cell_type": "markdown",
   "id": "5cb39af2",
   "metadata": {},
   "source": [
    "#### Produtos\n",
    "Tabela com todos os produtos presentes na plataforma:\n",
    "- `produto_id` – identificador do produto\n",
    "- `produto_categoria` – categoria do produto na plataforma\n",
    "- `produto_comprimento_nome` – número de caracteres do nome do produto\n",
    "- `produto_comprimento_descricao` – número de caracteres da descrição do produto\n",
    "- `produto_quantidade_fotos` – quantidade de fotos do produto na plataforma\n",
    "- `produto_peso_g` – peso do produto em gramas.\n",
    "- `produto_largura_cm`– largura do produto em centímetros\n",
    "- `produto_altura_cm` – altura do produto em centímetros\n",
    "- `produto_comprimento_cm` – comprimento do produto em centímetros"
   ]
  },
  {
   "cell_type": "code",
   "execution_count": 32,
   "id": "6be03b0a",
   "metadata": {},
   "outputs": [],
   "source": [
    "df_produtos = pd.read_excel(\"data/produtos.xlsx\") "
   ]
  },
  {
   "cell_type": "code",
   "execution_count": 33,
   "id": "2c3dbb38",
   "metadata": {},
   "outputs": [
    {
     "data": {
      "text/html": [
       "<div>\n",
       "<style scoped>\n",
       "    .dataframe tbody tr th:only-of-type {\n",
       "        vertical-align: middle;\n",
       "    }\n",
       "\n",
       "    .dataframe tbody tr th {\n",
       "        vertical-align: top;\n",
       "    }\n",
       "\n",
       "    .dataframe thead th {\n",
       "        text-align: right;\n",
       "    }\n",
       "</style>\n",
       "<table border=\"1\" class=\"dataframe\">\n",
       "  <thead>\n",
       "    <tr style=\"text-align: right;\">\n",
       "      <th></th>\n",
       "      <th>produto_id</th>\n",
       "      <th>produto_categoria</th>\n",
       "      <th>produto_comprimento_nome</th>\n",
       "      <th>produto_comprimento_descricao</th>\n",
       "      <th>produto_quantidade_fotos</th>\n",
       "      <th>produto_peso_g</th>\n",
       "      <th>produto_largura_cm</th>\n",
       "      <th>produto_altura_cm</th>\n",
       "      <th>produto_comprimento_cm</th>\n",
       "    </tr>\n",
       "  </thead>\n",
       "  <tbody>\n",
       "    <tr>\n",
       "      <th>0</th>\n",
       "      <td>1e9e8ef04dbcff4541ed26657ea517e5</td>\n",
       "      <td>perfumaria</td>\n",
       "      <td>40.0</td>\n",
       "      <td>287.0</td>\n",
       "      <td>1.0</td>\n",
       "      <td>225.0</td>\n",
       "      <td>16.0</td>\n",
       "      <td>10.0</td>\n",
       "      <td>14.0</td>\n",
       "    </tr>\n",
       "    <tr>\n",
       "      <th>1</th>\n",
       "      <td>3aa071139cb16b67ca9e5dea641aaa2f</td>\n",
       "      <td>artes</td>\n",
       "      <td>44.0</td>\n",
       "      <td>276.0</td>\n",
       "      <td>1.0</td>\n",
       "      <td>1000.0</td>\n",
       "      <td>30.0</td>\n",
       "      <td>18.0</td>\n",
       "      <td>20.0</td>\n",
       "    </tr>\n",
       "    <tr>\n",
       "      <th>2</th>\n",
       "      <td>96bd76ec8810374ed1b65e291975717f</td>\n",
       "      <td>esporte_lazer</td>\n",
       "      <td>46.0</td>\n",
       "      <td>250.0</td>\n",
       "      <td>1.0</td>\n",
       "      <td>154.0</td>\n",
       "      <td>18.0</td>\n",
       "      <td>9.0</td>\n",
       "      <td>15.0</td>\n",
       "    </tr>\n",
       "    <tr>\n",
       "      <th>3</th>\n",
       "      <td>cef67bcfe19066a932b7673e239eb23d</td>\n",
       "      <td>bebes</td>\n",
       "      <td>27.0</td>\n",
       "      <td>261.0</td>\n",
       "      <td>1.0</td>\n",
       "      <td>371.0</td>\n",
       "      <td>26.0</td>\n",
       "      <td>4.0</td>\n",
       "      <td>26.0</td>\n",
       "    </tr>\n",
       "    <tr>\n",
       "      <th>4</th>\n",
       "      <td>9dc1a7de274444849c219cff195d0b71</td>\n",
       "      <td>utilidades_domesticas</td>\n",
       "      <td>37.0</td>\n",
       "      <td>402.0</td>\n",
       "      <td>4.0</td>\n",
       "      <td>625.0</td>\n",
       "      <td>20.0</td>\n",
       "      <td>17.0</td>\n",
       "      <td>13.0</td>\n",
       "    </tr>\n",
       "    <tr>\n",
       "      <th>...</th>\n",
       "      <td>...</td>\n",
       "      <td>...</td>\n",
       "      <td>...</td>\n",
       "      <td>...</td>\n",
       "      <td>...</td>\n",
       "      <td>...</td>\n",
       "      <td>...</td>\n",
       "      <td>...</td>\n",
       "      <td>...</td>\n",
       "    </tr>\n",
       "    <tr>\n",
       "      <th>32946</th>\n",
       "      <td>a0b7d5a992ccda646f2d34e418fff5a0</td>\n",
       "      <td>moveis_decoracao</td>\n",
       "      <td>45.0</td>\n",
       "      <td>67.0</td>\n",
       "      <td>2.0</td>\n",
       "      <td>12300.0</td>\n",
       "      <td>40.0</td>\n",
       "      <td>40.0</td>\n",
       "      <td>40.0</td>\n",
       "    </tr>\n",
       "    <tr>\n",
       "      <th>32947</th>\n",
       "      <td>bf4538d88321d0fd4412a93c974510e6</td>\n",
       "      <td>construcao_ferramentas_iluminacao</td>\n",
       "      <td>41.0</td>\n",
       "      <td>971.0</td>\n",
       "      <td>1.0</td>\n",
       "      <td>1700.0</td>\n",
       "      <td>16.0</td>\n",
       "      <td>19.0</td>\n",
       "      <td>16.0</td>\n",
       "    </tr>\n",
       "    <tr>\n",
       "      <th>32948</th>\n",
       "      <td>9a7c6041fa9592d9d9ef6cfe62a71f8c</td>\n",
       "      <td>cama_mesa_banho</td>\n",
       "      <td>50.0</td>\n",
       "      <td>799.0</td>\n",
       "      <td>1.0</td>\n",
       "      <td>1400.0</td>\n",
       "      <td>27.0</td>\n",
       "      <td>7.0</td>\n",
       "      <td>27.0</td>\n",
       "    </tr>\n",
       "    <tr>\n",
       "      <th>32949</th>\n",
       "      <td>83808703fc0706a22e264b9d75f04a2e</td>\n",
       "      <td>informatica_acessorios</td>\n",
       "      <td>60.0</td>\n",
       "      <td>156.0</td>\n",
       "      <td>2.0</td>\n",
       "      <td>700.0</td>\n",
       "      <td>31.0</td>\n",
       "      <td>13.0</td>\n",
       "      <td>20.0</td>\n",
       "    </tr>\n",
       "    <tr>\n",
       "      <th>32950</th>\n",
       "      <td>106392145fca363410d287a815be6de4</td>\n",
       "      <td>cama_mesa_banho</td>\n",
       "      <td>58.0</td>\n",
       "      <td>309.0</td>\n",
       "      <td>1.0</td>\n",
       "      <td>2083.0</td>\n",
       "      <td>12.0</td>\n",
       "      <td>2.0</td>\n",
       "      <td>7.0</td>\n",
       "    </tr>\n",
       "  </tbody>\n",
       "</table>\n",
       "<p>32951 rows × 9 columns</p>\n",
       "</div>"
      ],
      "text/plain": [
       "                             produto_id                  produto_categoria  \\\n",
       "0      1e9e8ef04dbcff4541ed26657ea517e5                         perfumaria   \n",
       "1      3aa071139cb16b67ca9e5dea641aaa2f                              artes   \n",
       "2      96bd76ec8810374ed1b65e291975717f                      esporte_lazer   \n",
       "3      cef67bcfe19066a932b7673e239eb23d                              bebes   \n",
       "4      9dc1a7de274444849c219cff195d0b71              utilidades_domesticas   \n",
       "...                                 ...                                ...   \n",
       "32946  a0b7d5a992ccda646f2d34e418fff5a0                   moveis_decoracao   \n",
       "32947  bf4538d88321d0fd4412a93c974510e6  construcao_ferramentas_iluminacao   \n",
       "32948  9a7c6041fa9592d9d9ef6cfe62a71f8c                    cama_mesa_banho   \n",
       "32949  83808703fc0706a22e264b9d75f04a2e             informatica_acessorios   \n",
       "32950  106392145fca363410d287a815be6de4                    cama_mesa_banho   \n",
       "\n",
       "       produto_comprimento_nome  produto_comprimento_descricao  \\\n",
       "0                          40.0                          287.0   \n",
       "1                          44.0                          276.0   \n",
       "2                          46.0                          250.0   \n",
       "3                          27.0                          261.0   \n",
       "4                          37.0                          402.0   \n",
       "...                         ...                            ...   \n",
       "32946                      45.0                           67.0   \n",
       "32947                      41.0                          971.0   \n",
       "32948                      50.0                          799.0   \n",
       "32949                      60.0                          156.0   \n",
       "32950                      58.0                          309.0   \n",
       "\n",
       "       produto_quantidade_fotos  produto_peso_g  produto_largura_cm  \\\n",
       "0                           1.0           225.0                16.0   \n",
       "1                           1.0          1000.0                30.0   \n",
       "2                           1.0           154.0                18.0   \n",
       "3                           1.0           371.0                26.0   \n",
       "4                           4.0           625.0                20.0   \n",
       "...                         ...             ...                 ...   \n",
       "32946                       2.0         12300.0                40.0   \n",
       "32947                       1.0          1700.0                16.0   \n",
       "32948                       1.0          1400.0                27.0   \n",
       "32949                       2.0           700.0                31.0   \n",
       "32950                       1.0          2083.0                12.0   \n",
       "\n",
       "       produto_altura_cm  produto_comprimento_cm  \n",
       "0                   10.0                    14.0  \n",
       "1                   18.0                    20.0  \n",
       "2                    9.0                    15.0  \n",
       "3                    4.0                    26.0  \n",
       "4                   17.0                    13.0  \n",
       "...                  ...                     ...  \n",
       "32946               40.0                    40.0  \n",
       "32947               19.0                    16.0  \n",
       "32948                7.0                    27.0  \n",
       "32949               13.0                    20.0  \n",
       "32950                2.0                     7.0  \n",
       "\n",
       "[32951 rows x 9 columns]"
      ]
     },
     "execution_count": 33,
     "metadata": {},
     "output_type": "execute_result"
    }
   ],
   "source": [
    "df_produtos"
   ]
  },
  {
   "cell_type": "code",
   "execution_count": 34,
   "id": "5e1a9a5d",
   "metadata": {},
   "outputs": [
    {
     "name": "stdout",
     "output_type": "stream",
     "text": [
      "<class 'pandas.core.frame.DataFrame'>\n",
      "RangeIndex: 32951 entries, 0 to 32950\n",
      "Data columns (total 9 columns):\n",
      " #   Column                         Non-Null Count  Dtype  \n",
      "---  ------                         --------------  -----  \n",
      " 0   produto_id                     32951 non-null  object \n",
      " 1   produto_categoria              32341 non-null  object \n",
      " 2   produto_comprimento_nome       32341 non-null  float64\n",
      " 3   produto_comprimento_descricao  32341 non-null  float64\n",
      " 4   produto_quantidade_fotos       32341 non-null  float64\n",
      " 5   produto_peso_g                 32949 non-null  float64\n",
      " 6   produto_largura_cm             32949 non-null  float64\n",
      " 7   produto_altura_cm              32949 non-null  float64\n",
      " 8   produto_comprimento_cm         32949 non-null  float64\n",
      "dtypes: float64(7), object(2)\n",
      "memory usage: 2.3+ MB\n"
     ]
    }
   ],
   "source": [
    "df_produtos.info()"
   ]
  },
  {
   "cell_type": "code",
   "execution_count": 35,
   "id": "86084392",
   "metadata": {},
   "outputs": [
    {
     "data": {
      "text/plain": [
       "False    32951\n",
       "dtype: int64"
      ]
     },
     "execution_count": 35,
     "metadata": {},
     "output_type": "execute_result"
    }
   ],
   "source": [
    "df_produtos.duplicated().value_counts()"
   ]
  },
  {
   "cell_type": "markdown",
   "id": "5f65c9ca",
   "metadata": {},
   "source": [
    "<h3><font color='green'>Conclusões Produtos</font></h3>\n",
    "<ul>\n",
    "    <li>Valores nulos em categorias indicam que pode haver pedidos que não foram associados à sua categoria</li>\n",
    "    <li>Tipagem correta</li>\n",
    "    <li>Sem dados duplicados</li>\n",
    " \n",
    "</ul>"
   ]
  },
  {
   "cell_type": "markdown",
   "id": "d3ab91c5",
   "metadata": {},
   "source": [
    "#### Reviews\n",
    "Tabela com todos os reviews enviados na plataforma:\n",
    "- `review_id` – identificador do review\n",
    "- `pedido_id` – identificador do pedido\n",
    "- `review_score` – valor de 1 a 5 para a nota do pedido\n",
    "- `review_titulo` – título dado ao review\n",
    "- `review_comentario` – comentário atribuído ao review\n",
    "- `review_criado_em` – data de criação do review\n",
    "- `review_respondido_em` – data de quando o review foi respondido pelo vendedor."
   ]
  },
  {
   "cell_type": "code",
   "execution_count": 36,
   "id": "f12fb854",
   "metadata": {},
   "outputs": [],
   "source": [
    "df_reviews = pd.read_excel(\"data/reviews.xlsx\")\n",
    "# df_reviews = df_reviews.loc[df_reviews['review_score'].isin([1,2,3,4,5])]  #remove all wrong scores\n",
    "# df_reviews = df_reviews.dropna(axis=0,thresh=2) #remove rows with more than 2 NaN values"
   ]
  },
  {
   "cell_type": "code",
   "execution_count": 37,
   "id": "9f232655",
   "metadata": {},
   "outputs": [
    {
     "name": "stdout",
     "output_type": "stream",
     "text": [
      "<class 'pandas.core.frame.DataFrame'>\n",
      "RangeIndex: 104257 entries, 0 to 104256\n",
      "Data columns (total 7 columns):\n",
      " #   Column                Non-Null Count   Dtype         \n",
      "---  ------                --------------   -----         \n",
      " 0   review_id             102335 non-null  object        \n",
      " 1   pedido_id             102693 non-null  object        \n",
      " 2   review_score          102523 non-null  object        \n",
      " 3   review_titulo         11998 non-null   object        \n",
      " 4   review_comentario     41216 non-null   object        \n",
      " 5   review_criado_em      94471 non-null   object        \n",
      " 6   review_respondido_em  94450 non-null   datetime64[ns]\n",
      "dtypes: datetime64[ns](1), object(6)\n",
      "memory usage: 5.6+ MB\n"
     ]
    }
   ],
   "source": [
    "df_reviews.info()"
   ]
  },
  {
   "cell_type": "code",
   "execution_count": null,
   "id": "43c0052a",
   "metadata": {},
   "outputs": [],
   "source": [
    "df_reviews['review_score'] = df_reviews.review_score.astype('category') \n",
    "df_reviews['review_score'].cat.categories = ['Muito Insatisfeito', 'Insatisfeito', 'Indiferente', 'Satisfeito', 'Muito Satisfeito']\n",
    "df_reviews['review_score'] = pd.Categorical(df_reviews.review_score, categories = ['Muito Insatisfeito', 'Insatisfeito', 'Indiferente', 'Satisfeito', 'Muito Satisfeito'], ordered=True)\n",
    "# df_reviews['review_score'].cat.ordered\n",
    "freq_review_score = df_reviews['review_score'].value_counts(True)*100\n",
    "freq_review_score.round(2)"
   ]
  },
  {
   "cell_type": "markdown",
   "id": "57461ddc",
   "metadata": {},
   "source": [
    "<h3><font color='green'>Conclusões Reviews</font></h3>\n",
    "<ul>\n",
    "    <li>Valores nulos de review podem indicar usuários que compraram e não fizeram o review do produto. O mesmo vale para os comentários dos reviews.</li>\n",
    "    <li>Tipagem correta</li>\n",
    "    <li>Sem dados duplicados</li>\n",
    " \n",
    "</ul>"
   ]
  },
  {
   "cell_type": "markdown",
   "id": "9fe46278",
   "metadata": {},
   "source": [
    "#### Vendedores\n",
    "Tabela com todos os vendedores da plataforma:\n",
    "- `vendedor_id` – identificador do vendedor\n",
    "- `vendedor_CEP` – CEP do vendedor\n",
    "- `vendedor_cidade` – cidade do vendedor\n",
    "- `vendedor_estado` – estado do vendedor"
   ]
  },
  {
   "cell_type": "code",
   "execution_count": null,
   "id": "f049412d",
   "metadata": {},
   "outputs": [],
   "source": [
    "df_vendedores = pd.read_excel(\"data/vendedores.xlsx\") "
   ]
  }
 ],
 "metadata": {
  "kernelspec": {
   "display_name": "Python 3",
   "language": "python",
   "name": "python3"
  },
  "language_info": {
   "codemirror_mode": {
    "name": "ipython",
    "version": 3
   },
   "file_extension": ".py",
   "mimetype": "text/x-python",
   "name": "python",
   "nbconvert_exporter": "python",
   "pygments_lexer": "ipython3",
   "version": "3.8.8"
  }
 },
 "nbformat": 4,
 "nbformat_minor": 5
}
